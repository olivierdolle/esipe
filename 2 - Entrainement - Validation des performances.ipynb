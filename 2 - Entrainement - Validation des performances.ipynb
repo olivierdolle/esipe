{
 "cells": [
  {
   "cell_type": "code",
   "execution_count": 1,
   "metadata": {
    "slideshow": {
     "slide_type": "skip"
    }
   },
   "outputs": [
    {
     "name": "stdout",
     "output_type": "stream",
     "text": [
      "Populating the interactive namespace from numpy and matplotlib\n"
     ]
    }
   ],
   "source": [
    "%pylab inline\n",
    "\n",
    "import pickle\n",
    "import seaborn as sns\n",
    "\n",
    "from sklearn.datasets import make_classification\n",
    "from sklearn.ensemble import RandomForestClassifier\n",
    "from sklearn.metrics import accuracy_score, make_scorer, r2_score, mean_absolute_error, mean_squared_error\n",
    "from sklearn.model_selection import cross_val_score, train_test_split, GridSearchCV"
   ]
  },
  {
   "cell_type": "markdown",
   "metadata": {
    "slideshow": {
     "slide_type": "slide"
    }
   },
   "source": [
    "# Import des données"
   ]
  },
  {
   "cell_type": "code",
   "execution_count": 2,
   "metadata": {
    "slideshow": {
     "slide_type": "fragment"
    }
   },
   "outputs": [],
   "source": [
    "# Remplacer ceci par l'import de vos données\n",
    "X, y = make_classification(n_samples=10000, weights=[0.2, 0.8])"
   ]
  },
  {
   "cell_type": "code",
   "execution_count": 3,
   "metadata": {
    "slideshow": {
     "slide_type": "fragment"
    }
   },
   "outputs": [
    {
     "data": {
      "image/png": "[encoded data removed]",
      "text/plain": [
       "<Figure size 432x288 with 1 Axes>"
      ]
     },
     "metadata": {
      "needs_background": "light"
     },
     "output_type": "display_data"
    }
   ],
   "source": [
    "# Regardons la répartition de notre objectif\n",
    "sns.countplot(y)\n",
    "None"
   ]
  },
  {
   "cell_type": "markdown",
   "metadata": {
    "slideshow": {
     "slide_type": "slide"
    }
   },
   "source": [
    "# Division en Train set / Test set"
   ]
  },
  {
   "cell_type": "code",
   "execution_count": 4,
   "metadata": {
    "slideshow": {
     "slide_type": "fragment"
    }
   },
   "outputs": [],
   "source": [
    "# On utilise un split standard de 75%-25%  \n",
    "X_train, X_test, y_train, y_test = train_test_split(X, y, test_size=0.25)"
   ]
  },
  {
   "cell_type": "markdown",
   "metadata": {
    "slideshow": {
     "slide_type": "slide"
    }
   },
   "source": [
    "# Training"
   ]
  },
  {
   "cell_type": "markdown",
   "metadata": {
    "slideshow": {
     "slide_type": "subslide"
    }
   },
   "source": [
    "## Premier essai naïf"
   ]
  },
  {
   "cell_type": "code",
   "execution_count": 5,
   "metadata": {
    "slideshow": {
     "slide_type": "fragment"
    }
   },
   "outputs": [
    {
     "name": "stdout",
     "output_type": "stream",
     "text": [
      "Training score 95.7%\n",
      "Test score     88.3%\n"
     ]
    }
   ],
   "source": [
    "# On essaie avec un arbre\n",
    "model = RandomForestClassifier(n_estimators=1)\n",
    "\n",
    "model.fit(X_train, y_train)\n",
    "print(f'Training score {accuracy_score(model.predict(X_train), y_train) * 100:.1f}%')\n",
    "\n",
    "print(f'Test score     {accuracy_score(model.predict(X_test), y_test) * 100:.1f}%')"
   ]
  },
  {
   "cell_type": "code",
   "execution_count": 6,
   "metadata": {
    "slideshow": {
     "slide_type": "subslide"
    }
   },
   "outputs": [],
   "source": [
    "# On définit une fonction que l'on va réutiliser pour scorer différents modèles\n",
    "\n",
    "def score_model(model):\n",
    "    \"\"\"Réalise la validation croisée d'un modèle sur le training set uniquement\n",
    "    puis affiche les résultats (moyenne et écart-type de la précision du modèle)\"\"\"\n",
    "    results = cross_val_score(model,\n",
    "                              X_train,\n",
    "                              y_train,\n",
    "                              scoring=make_scorer(accuracy_score),\n",
    "                              cv=3)\n",
    "    print(f'Moyenne : {results.mean() * 100:.1f}%, Ecart-Type : {results.std() * 100:.1f}%')"
   ]
  },
  {
   "cell_type": "code",
   "execution_count": 7,
   "metadata": {
    "slideshow": {
     "slide_type": "fragment"
    }
   },
   "outputs": [
    {
     "name": "stdout",
     "output_type": "stream",
     "text": [
      "Moyenne : 88.6%, Ecart-Type : 0.5%\n",
      "CPU times: user 54.8 ms, sys: 3.79 ms, total: 58.6 ms\n",
      "Wall time: 60.8 ms\n"
     ]
    }
   ],
   "source": [
    "%%time\n",
    "\n",
    "# On réessaie le même modèle avec la validation croisée\n",
    "model = RandomForestClassifier(n_estimators=1)\n",
    "score_model(model)"
   ]
  },
  {
   "cell_type": "markdown",
   "metadata": {
    "slideshow": {
     "slide_type": "subslide"
    }
   },
   "source": [
    "## Essais de quelques configurations \"à la main\""
   ]
  },
  {
   "cell_type": "code",
   "execution_count": 8,
   "metadata": {
    "slideshow": {
     "slide_type": "subslide"
    }
   },
   "outputs": [
    {
     "name": "stdout",
     "output_type": "stream",
     "text": [
      "Moyenne : 85.9%, Ecart-Type : 0.4%\n",
      "CPU times: user 93 ms, sys: 2.19 ms, total: 95.2 ms\n",
      "Wall time: 103 ms\n"
     ]
    }
   ],
   "source": [
    "%%time\n",
    "\n",
    "# On essaie avec deux arbres\n",
    "model = RandomForestClassifier(n_estimators=2)\n",
    "score_model(model)"
   ]
  },
  {
   "cell_type": "code",
   "execution_count": 9,
   "metadata": {
    "slideshow": {
     "slide_type": "subslide"
    }
   },
   "outputs": [
    {
     "name": "stdout",
     "output_type": "stream",
     "text": [
      "Moyenne : 93.0%, Ecart-Type : 0.1%\n",
      "CPU times: user 497 ms, sys: 6.09 ms, total: 503 ms\n",
      "Wall time: 535 ms\n"
     ]
    }
   ],
   "source": [
    "%%time\n",
    "\n",
    "# 10...\n",
    "model = RandomForestClassifier(n_estimators=10)\n",
    "score_model(model)"
   ]
  },
  {
   "cell_type": "code",
   "execution_count": 10,
   "metadata": {
    "slideshow": {
     "slide_type": "subslide"
    }
   },
   "outputs": [
    {
     "name": "stdout",
     "output_type": "stream",
     "text": [
      "Moyenne : 93.5%, Ecart-Type : 0.1%\n",
      "CPU times: user 3.12 s, sys: 586 ms, total: 3.7 s\n",
      "Wall time: 20.4 s\n"
     ]
    }
   ],
   "source": [
    "%%time\n",
    "\n",
    "# 1000...\n",
    "model = RandomForestClassifier(n_estimators=1000, n_jobs=-1)\n",
    "score_model(model)"
   ]
  },
  {
   "cell_type": "markdown",
   "metadata": {
    "slideshow": {
     "slide_type": "subslide"
    }
   },
   "source": [
    "## Tester des combinaisons de manière automatisée"
   ]
  },
  {
   "cell_type": "code",
   "execution_count": 11,
   "metadata": {
    "slideshow": {
     "slide_type": "subslide"
    }
   },
   "outputs": [
    {
     "name": "stdout",
     "output_type": "stream",
     "text": [
      "Meilleurs paramètres: {'max_depth': 10, 'n_estimators': 1000}\n",
      "Meilleur score      : 0.9326666666666666\n",
      "CPU times: user 1min 32s, sys: 764 ms, total: 1min 32s\n",
      "Wall time: 1min 36s\n"
     ]
    }
   ],
   "source": [
    "%%time\n",
    "\n",
    "model = RandomForestClassifier()\n",
    "parameter_grid = {\n",
    "    'n_estimators': [1, 10, 100, 1000],\n",
    "    'max_depth'   : [2, 5, 10],\n",
    "}\n",
    "\n",
    "search = GridSearchCV(estimator=model, param_grid=parameter_grid, cv=3)\n",
    "\n",
    "search.fit(X_train, y_train)\n",
    "\n",
    "params = search.best_params_\n",
    "print(f'Meilleurs paramètres: {search.best_params_}')\n",
    "print(f'Meilleur score      : {search.best_score_}')"
   ]
  },
  {
   "cell_type": "markdown",
   "metadata": {
    "slideshow": {
     "slide_type": "slide"
    }
   },
   "source": [
    "# Evaluation Finale"
   ]
  },
  {
   "cell_type": "code",
   "execution_count": 12,
   "metadata": {
    "slideshow": {
     "slide_type": "subslide"
    }
   },
   "outputs": [
    {
     "name": "stdout",
     "output_type": "stream",
     "text": [
      "Score du modèle (précision) : 94.4%\n"
     ]
    }
   ],
   "source": [
    "# On a trouvé les meilleurs paramètres (parmi ceux cherchés...)\n",
    "# On va les utiliser pour entrainer le modèle sur tout le dataset\n",
    "# Puis on évalue le modèle obtenu sur le test set\n",
    "\n",
    "model = RandomForestClassifier(**params)\n",
    "model.fit(X_train, y_train)\n",
    "\n",
    "print(f'Score du modèle (précision) : {accuracy_score(model.predict(X_test), y_test) * 100:.1f}%')"
   ]
  },
  {
   "cell_type": "markdown",
   "metadata": {
    "slideshow": {
     "slide_type": "slide"
    }
   },
   "source": [
    "Notebook disponible sur github :\n",
    "    https://github.com/olivierdolle/esipe"
   ]
  }
 ],
 "metadata": {
  "celltoolbar": "Diaporama",
  "kernelspec": {
   "display_name": "Python 3",
   "language": "python",
   "name": "python3"
  },
  "language_info": {
   "codemirror_mode": {
    "name": "ipython",
    "version": 3
   },
   "file_extension": ".py",
   "mimetype": "text/x-python",
   "name": "python",
   "nbconvert_exporter": "python",
   "pygments_lexer": "ipython3",
   "version": "3.8.0"
  }
 },
 "nbformat": 4,
 "nbformat_minor": 2
}
